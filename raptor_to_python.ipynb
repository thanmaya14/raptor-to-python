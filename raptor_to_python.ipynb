{
  "nbformat": 4,
  "nbformat_minor": 0,
  "metadata": {
    "colab": {
      "provenance": [],
      "authorship_tag": "ABX9TyO8glBAYA9HiRJFrjP4IDsi",
      "include_colab_link": true
    },
    "kernelspec": {
      "name": "python3",
      "display_name": "Python 3"
    },
    "language_info": {
      "name": "python"
    }
  },
  "cells": [
    {
      "cell_type": "markdown",
      "metadata": {
        "id": "view-in-github",
        "colab_type": "text"
      },
      "source": [
        "<a href=\"https://colab.research.google.com/github/thanmaya14/raptor-to-python/blob/main/raptor_to_python.ipynb\" target=\"_parent\"><img src=\"https://colab.research.google.com/assets/colab-badge.svg\" alt=\"Open In Colab\"/></a>"
      ]
    },
    {
      "cell_type": "code",
      "source": [
        "#finding average of 3 values\n",
        "x=int(input(\"enter a number\"))\n",
        "y=int(input(\"enter a number\"))\n",
        "z=int(input(\"enter a number\"))\n",
        "avg=(x+y+z)/3\n",
        "print(\"the average value is\",avg)"
      ],
      "metadata": {
        "colab": {
          "base_uri": "https://localhost:8080/"
        },
        "id": "e8OYQFSHeXtk",
        "outputId": "b4e1d83c-61c1-4583-ccfa-4b7b6c0b7aed"
      },
      "execution_count": null,
      "outputs": [
        {
          "output_type": "stream",
          "name": "stdout",
          "text": [
            "enter a number4\n",
            "enter a number5\n",
            "enter a number9\n",
            "the average value is 6.0\n"
          ]
        }
      ]
    },
    {
      "cell_type": "code",
      "execution_count": null,
      "metadata": {
        "id": "e5Gy5MDcr_0X",
        "colab": {
          "base_uri": "https://localhost:8080/"
        },
        "outputId": "a7a5c686-4c37-4703-d3f7-17dd93c3a424"
      },
      "outputs": [
        {
          "output_type": "stream",
          "name": "stdout",
          "text": [
            "enter number1: 666\n",
            "enter number2: 222\n",
            "enter number3: 222\n",
            "the sum of 3 number is:  1110\n",
            "the average of 3 number is:  370.0\n"
          ]
        }
      ],
      "source": [
        "# sum and average of 3 numbers\n",
        "a=int(input(\"enter number1: \"))\n",
        "b=int(input(\"enter number2: \"))\n",
        "c=int(input(\"enter number3: \"))\n",
        "sum=a+b+c\n",
        "avg=sum/3\n",
        "print(\"the sum of 3 number is: \",sum)\n",
        "print(\"the average of 3 number is: \",avg)"
      ]
    },
    {
      "cell_type": "code",
      "source": [
        "#convert the time entered in seconds into hours , minutes, seconds\n",
        "\n",
        "seconds=int(input(\"enter the time inseconds: \"))\n",
        "s=seconds%60\n",
        "m=seconds//60\n",
        "h=seconds//3600\n",
        "print(h, \":\" ,m ,\":\" ,s,)"
      ],
      "metadata": {
        "colab": {
          "base_uri": "https://localhost:8080/"
        },
        "id": "isvzxavYt5ug",
        "outputId": "fe05214d-2b6d-4a83-882d-850bc80d28bb"
      },
      "execution_count": null,
      "outputs": [
        {
          "output_type": "stream",
          "name": "stdout",
          "text": [
            "enter the time inseconds: 123456\n",
            "34 : 2057 : 36\n"
          ]
        }
      ]
    },
    {
      "cell_type": "code",
      "source": [
        "#find the area and perimeter\n",
        "import math\n",
        "x=int(input(\"enter the value: \"))\n",
        "y=int(input(\"enter the value: \"))\n",
        "z=int(input(\"enter the value: \"))\n",
        "perimeter=x+y+z\n",
        "s=perimeter/2\n",
        "area=math.sqrt(s*(s-x)*(s-y)*(s-z))\n",
        "print(\"the perimeter of the traingle is\",perimeter)\n",
        "print(\"area of the triangle is: \",area)"
      ],
      "metadata": {
        "id": "Sqw-7v7xXynu",
        "colab": {
          "base_uri": "https://localhost:8080/"
        },
        "outputId": "7d2ead2b-9ad8-4bc3-a11b-3393d962b72b"
      },
      "execution_count": null,
      "outputs": [
        {
          "output_type": "stream",
          "name": "stdout",
          "text": [
            "enter the value: 6\n",
            "enter the value: 8\n",
            "enter the value: 12\n",
            "the perimeter of the traingle is 26\n",
            "area of the triangle is:  21.330729007701542\n"
          ]
        }
      ]
    },
    {
      "cell_type": "code",
      "source": [
        "#area of triangle\n",
        "r=float(input(\"enter the radius value: \"))\n",
        "area=3.14*r*r\n",
        "print(\"the area of the triangle is: \",area)"
      ],
      "metadata": {
        "colab": {
          "base_uri": "https://localhost:8080/"
        },
        "id": "HfkCYFD4a-m_",
        "outputId": "7eeb4a0a-155d-447a-80f2-3af3af454ff9"
      },
      "execution_count": null,
      "outputs": [
        {
          "output_type": "stream",
          "name": "stdout",
          "text": [
            "enter the radius value: 7\n",
            "the area of the triangle is:  153.86\n"
          ]
        }
      ]
    },
    {
      "cell_type": "code",
      "source": [
        "#enter 2 unequal number and interchange them without using a third variable\n",
        "a=int(input(\"Enter a number a : \"))\n",
        "b=int(input(\"Enter a number b : \"))\n",
        "a=a+b\n",
        "b=a-b\n",
        "a=a-b\n",
        "print(\"a=\",a)\n",
        "print(\"b=\",b)"
      ],
      "metadata": {
        "colab": {
          "base_uri": "https://localhost:8080/"
        },
        "id": "18n1L-nTbzkx",
        "outputId": "199550d9-a96b-4bc5-fd18-912ec139ee62"
      },
      "execution_count": null,
      "outputs": [
        {
          "output_type": "stream",
          "name": "stdout",
          "text": [
            "Enter a number a : 5\n",
            "Enter a number b : 15\n",
            "a= 15\n",
            "b= 5\n"
          ]
        }
      ]
    },
    {
      "cell_type": "code",
      "source": [
        "# Display Sum, Difference, Product, Quotient and Remainder of two Unequal Numbers\n",
        "num1 = float(input(\"Enter 1st Number: \"))\n",
        "num2 = float(input(\"Enter 2nd Number: \"))\n",
        "sum=num1+num2\n",
        "difference=num1-num2\n",
        "product=num1*num2\n",
        "quotient=num1//num2\n",
        "remainder=num1%num2\n",
        "print(\"The Sum is \",sum)\n",
        "print(\"The DIfference is \",difference)\n",
        "print(\"The Product is \",product)\n",
        "print(\"The Quotient is \",quotient)\n",
        "print(\"The Remainder is \",remainder)"
      ],
      "metadata": {
        "id": "zF0JG31mEySO",
        "colab": {
          "base_uri": "https://localhost:8080/"
        },
        "outputId": "0fb15110-0b1d-41cd-d438-ba1cb06fc8d5"
      },
      "execution_count": null,
      "outputs": [
        {
          "output_type": "stream",
          "name": "stdout",
          "text": [
            "Enter 1st Number: 6\n",
            "Enter 2nd Number: 2\n",
            "The Sum is  8.0\n",
            "The DIfference is  4.0\n",
            "The Product is  12.0\n",
            "The Quotient is  3.0\n",
            "The Remainder is  0.0\n"
          ]
        }
      ]
    },
    {
      "cell_type": "code",
      "source": [
        "# Enter the Number of Days and display into Years, Months and Days\n",
        "days = int(input(\"Enter the No of Days \"))\n",
        "year=days//365\n",
        "month=(days%365)//12\n",
        "dd=(days%365)%30\n",
        "\n",
        "print(year,\":\",month,\":\",dd)"
      ],
      "metadata": {
        "colab": {
          "base_uri": "https://localhost:8080/"
        },
        "id": "d6Ff5VjGGDw9",
        "outputId": "efd02cfc-59dc-4844-cbe1-101d70e930ba"
      },
      "execution_count": 17,
      "outputs": [
        {
          "output_type": "stream",
          "name": "stdout",
          "text": [
            "Enter the No of Days 365\n",
            "1 : 0 : 0\n"
          ]
        }
      ]
    },
    {
      "cell_type": "code",
      "source": [
        "#largest in 2 numbers\n",
        "a=int(input(\"enter a number: \"))\n",
        "b=int(input(\"enter a number: \"))\n",
        "if a>b:\n",
        "  print(a,\"is the largest number\")\n",
        "else:\n",
        "  print(b, \"is the largest number\")\n",
        "\n"
      ],
      "metadata": {
        "colab": {
          "base_uri": "https://localhost:8080/"
        },
        "id": "jbCMoELex2Hr",
        "outputId": "1162d189-4b95-48f3-d485-46cc029ebb27"
      },
      "execution_count": null,
      "outputs": [
        {
          "output_type": "stream",
          "name": "stdout",
          "text": [
            "enter a number: 555\n",
            "enter a number: 4275686\n",
            "4275686 is the largest number\n"
          ]
        }
      ]
    },
    {
      "cell_type": "code",
      "source": [
        "#largest in 3 numbers\n",
        "a=int(input(\"enter a number: \"))\n",
        "b=int(input(\"enter a number: \"))\n",
        "c=int(input(\"enter a number: \"))\n",
        "if a>b>c or a>c>b:\n",
        "  print(a, \"is the largest number\")\n",
        "elif b>a>c or b>c>a:\n",
        "  print(b, \"is the largest number\")\n",
        "elif c>a>b or c>b>a:\n",
        "  print( c, \"is the largest number\")"
      ],
      "metadata": {
        "id": "hO5UyxbYzCOq",
        "colab": {
          "base_uri": "https://localhost:8080/"
        },
        "outputId": "a853a678-4d2a-427f-e660-0df561ac9ffa"
      },
      "execution_count": null,
      "outputs": [
        {
          "output_type": "stream",
          "name": "stdout",
          "text": [
            "enter a number: 9\n",
            "enter a number: 987\n",
            "enter a number: 5\n",
            "987 is the largest number\n"
          ]
        }
      ]
    },
    {
      "cell_type": "code",
      "source": [
        "#smallest among 3 numbers\n",
        "a=int(input(\"enter the number: \"))\n",
        "b=int(input(\"enter the number: \"))\n",
        "c=int(input(\"enter the number: \"))\n",
        "if a<b<c or a<c<b:\n",
        "  print(\"the smallest number is:\" ,a )\n",
        "elif b<a<c or b<c<a:\n",
        "  print(\"the smallest number is: \",b)\n",
        "elif c<a<b or c<b<a:\n",
        "  print(\"the smallest number is: \",c)\n"
      ],
      "metadata": {
        "colab": {
          "base_uri": "https://localhost:8080/"
        },
        "id": "l6mvj5Z18H88",
        "outputId": "71e99865-b7ea-4579-803e-8033802932df"
      },
      "execution_count": null,
      "outputs": [
        {
          "output_type": "stream",
          "name": "stdout",
          "text": [
            "enter the number: 9\n",
            "enter the number: 8\n",
            "enter the number: 7\n",
            "the smallest number is:  7\n"
          ]
        }
      ]
    },
    {
      "cell_type": "code",
      "source": [
        "#distance between two points in a number line\n",
        "a=int(input(\"enter a number: \"))\n",
        "b=int(input(\"enter a number: \"))\n",
        "d=a-b\n",
        "if d<0:\n",
        "  d=d*(-1)\n",
        "  --print(\"the distance is: \",d)\n",
        "else:\n",
        "  print(\"the distance is: \",d)"
      ],
      "metadata": {
        "colab": {
          "base_uri": "https://localhost:8080/"
        },
        "id": "TdXpUKzMatY1",
        "outputId": "16c5cca1-c012-4337-c78e-7d3e0a06ad9c"
      },
      "execution_count": null,
      "outputs": [
        {
          "output_type": "stream",
          "name": "stdout",
          "text": [
            "enter a number: 9\n",
            "enter a number: -5\n",
            "the distance is:  14\n"
          ]
        }
      ]
    },
    {
      "cell_type": "code",
      "source": [
        "#a number is 2 digit or not\n",
        "x=int(input(\"enter a number; \"))\n",
        "if 9<x<100:\n",
        "  print(x, \"is a 2 digit number\")\n",
        "else:\n",
        "    print(x ,\"is not a 2 digit number\")"
      ],
      "metadata": {
        "colab": {
          "base_uri": "https://localhost:8080/"
        },
        "id": "klmI3YfFvVfU",
        "outputId": "09ac5deb-1652-4e9e-8187-efcaf80d23e8"
      },
      "execution_count": null,
      "outputs": [
        {
          "output_type": "stream",
          "name": "stdout",
          "text": [
            "enter a number; 4\n",
            "4 is not a 2 digit number\n"
          ]
        }
      ]
    },
    {
      "cell_type": "code",
      "source": [
        "#given number is +ve, -ve or zero\n",
        "x=int(input(\"enter a number: \"))\n",
        "if x==0:\n",
        "  print(x, \"is 0\")\n",
        "elif x>0:\n",
        "  print(x, \"is a positive number\")\n",
        "else:\n",
        "  print(x, \"is a negative number\")"
      ],
      "metadata": {
        "colab": {
          "base_uri": "https://localhost:8080/"
        },
        "id": "ltqjFRSbH-MD",
        "outputId": "dcd27e50-a9d0-4019-e6c7-02a658bdc63e"
      },
      "execution_count": null,
      "outputs": [
        {
          "output_type": "stream",
          "name": "stdout",
          "text": [
            "enter a number: 544\n",
            "544 is a positive number\n"
          ]
        }
      ]
    },
    {
      "cell_type": "code",
      "source": [
        "#wheher a number is a multiple of another\n",
        "a=int(input(\"enter a number: \"))\n",
        "b=int(input(\"enter another number: \"))\n",
        "if a%b==0:\n",
        "  print(a, \"is a multiple of\",b)\n",
        "else:\n",
        "  print(a,\"is not a multiple of\",b)"
      ],
      "metadata": {
        "colab": {
          "base_uri": "https://localhost:8080/"
        },
        "id": "cGd3eJAnLsaQ",
        "outputId": "a41452f9-5790-4099-cae0-0f8fabfe53c5"
      },
      "execution_count": null,
      "outputs": [
        {
          "output_type": "stream",
          "name": "stdout",
          "text": [
            "enter a number: 4 \n",
            "enter another number:  2\n",
            "4 is a multiple of 2\n"
          ]
        }
      ]
    },
    {
      "cell_type": "code",
      "source": [
        "#smallest digit in a 2 digit number\n",
        "a=int(input(\"enter a number: \"))\n",
        "x=a%10\n",
        "y=a//10\n",
        "if  x>y:\n",
        "  print(y, \"is the sallest digit in\",a)\n",
        "elif x==y:\n",
        "  print(\"both digits are same\")\n",
        "else:\n",
        "  print(x, \"is the smallest digit in\",a)"
      ],
      "metadata": {
        "id": "8Eo7EP6w_Eoy",
        "colab": {
          "base_uri": "https://localhost:8080/"
        },
        "outputId": "f63633f6-9223-4383-a4b1-3ae62b307efb"
      },
      "execution_count": null,
      "outputs": [
        {
          "output_type": "stream",
          "name": "stdout",
          "text": [
            "enter a number: 56\n",
            "5 is the sallest digit in 56\n"
          ]
        }
      ]
    },
    {
      "cell_type": "code",
      "source": [
        "#nature of a quardratic equation\n",
        "a=int(input(\"enter the coefficient of x^2 \"))\n",
        "b=int(input(\"enter the coefficient if x: \"))\n",
        "c=int(input(\"enter the constant value: \"))\n",
        "d=b*b-(4*a*c)\n",
        "if d==0:\n",
        "  print(\"the roots are real and equal\")\n",
        "elif d>0:\n",
        "  print(\"the roots are real and unequal\")\n",
        "elif d<0:\n",
        "  print(\"the roots are imaginary\")\n"
      ],
      "metadata": {
        "colab": {
          "base_uri": "https://localhost:8080/"
        },
        "id": "SUE3rfiyJO_X",
        "outputId": "cf5ebe68-5227-4bec-9f78-d34ff8789f8c"
      },
      "execution_count": null,
      "outputs": [
        {
          "output_type": "stream",
          "name": "stdout",
          "text": [
            "enter the coefficient of x^2 15\n",
            "enter the coefficient if x: 11\n",
            "enter the constant value: 2\n",
            "the roots are real and unequal\n"
          ]
        }
      ]
    },
    {
      "cell_type": "code",
      "source": [
        "\n",
        "#find the reverse of a number\n",
        "n=int(input(\"enter a number: \"))\n",
        "reverse=0\n",
        "while n>0:\n",
        "  r=n%10\n",
        "  reverse=(reverse*10)+r\n",
        "  n=n//10\n",
        "print(\"reverse of the number: \",reverse)\n"
      ],
      "metadata": {
        "colab": {
          "base_uri": "https://localhost:8080/"
        },
        "id": "LGVp3BJKR8Fg",
        "outputId": "15ca4328-8707-4e55-98dc-4f238ee0fe3a"
      },
      "execution_count": null,
      "outputs": [
        {
          "output_type": "stream",
          "name": "stdout",
          "text": [
            "enter a number: 123\n",
            "reverse of the number:  321\n"
          ]
        }
      ]
    },
    {
      "cell_type": "code",
      "source": [
        "#sum of first n natural numbers\n",
        "n=int(input(\"enter the n value: \"))\n",
        "sum=0\n",
        "i=1\n",
        "while i<=n:\n",
        "  sum=sum+i\n",
        "  i=i+1\n",
        "print(\"the sum of\",n, \"natural number is: \",sum)"
      ],
      "metadata": {
        "colab": {
          "base_uri": "https://localhost:8080/"
        },
        "id": "Jmoa_HuHODSL",
        "outputId": "99529177-8d8c-4bc5-ffcf-f8a4bb87217b"
      },
      "execution_count": null,
      "outputs": [
        {
          "output_type": "stream",
          "name": "stdout",
          "text": [
            "enter the n value: 5\n",
            "the sum of 5 natural number is:  15\n"
          ]
        }
      ]
    },
    {
      "cell_type": "code",
      "source": [
        "#sum of factors of a number\n",
        "n=int(input(\"enter the number: \"))\n",
        "sum=0\n",
        "i=1\n",
        "while i<=n:\n",
        "  if n%i==0:\n",
        "   sum=sum+i\n",
        "  i=i+1\n",
        "print(sum)"
      ],
      "metadata": {
        "colab": {
          "base_uri": "https://localhost:8080/"
        },
        "id": "BmhXHcYtVrWz",
        "outputId": "1d1db28c-40fb-4668-9027-2f77a20ad90d"
      },
      "execution_count": null,
      "outputs": [
        {
          "output_type": "stream",
          "name": "stdout",
          "text": [
            "enter the number: 6\n",
            "12\n"
          ]
        }
      ]
    },
    {
      "cell_type": "code",
      "source": [
        "#print n terms of an arithmetic series\n",
        "a=int(input(\"enter the first term: \"))\n",
        "d=int(input(\"enter the common difference: \"))\n",
        "n=int(input(\"enter the number of terms: \"))\n",
        "i=1\n",
        "while i<=n:\n",
        "  print(a)\n",
        "  a=a+d\n",
        "  i=i+1\n",
        "\n"
      ],
      "metadata": {
        "colab": {
          "base_uri": "https://localhost:8080/"
        },
        "id": "ZVSHE3gPgeDq",
        "outputId": "c22b377a-b216-487f-ae5b-7cf7fc484e33"
      },
      "execution_count": null,
      "outputs": [
        {
          "output_type": "stream",
          "name": "stdout",
          "text": [
            "enter the first term: 4\n",
            "enter the common difference: 2\n",
            "enter the number of terms: 5\n",
            "4\n",
            "6\n",
            "8\n",
            "10\n",
            "12\n"
          ]
        }
      ]
    },
    {
      "cell_type": "code",
      "source": [
        "#print n terms of fibonacci series\n",
        "n=int(input(\"enter the no.of terms: \"))\n",
        "first=0\n",
        "second=1\n",
        "print(first)\n",
        "print(second)\n",
        "for i in range(3,n+1):\n",
        "  print(first+second)\n",
        "  temp=first\n",
        "  first=second\n",
        "  second=temp+second"
      ],
      "metadata": {
        "colab": {
          "base_uri": "https://localhost:8080/"
        },
        "id": "VlRIwA-Mjsc-",
        "outputId": "fa71aa4a-bc05-4a02-acd6-97a3922d5bdf"
      },
      "execution_count": 18,
      "outputs": [
        {
          "output_type": "stream",
          "name": "stdout",
          "text": [
            "enter the no.of terms: 9\n",
            "0\n",
            "1\n",
            "1\n",
            "2\n",
            "3\n",
            "5\n",
            "8\n",
            "13\n",
            "21\n"
          ]
        }
      ]
    },
    {
      "cell_type": "code",
      "source": [
        "#check whether a number is palindrome or not\n",
        "n=int(input(\"enter the number: \"))\n",
        "temp=n\n",
        "rev=0\n",
        "while n>0:\n",
        "  r=n%10\n",
        "  rev=(rev*10)+r\n",
        "  n=n//10\n",
        "if temp==rev:\n",
        "  print(\" the number is palindrome\")\n",
        "else:\n",
        "  print(\"the number is not a palindrome\")\n"
      ],
      "metadata": {
        "colab": {
          "base_uri": "https://localhost:8080/"
        },
        "id": "BNVRsVqjltPe",
        "outputId": "ebd09c92-a2ea-4cb9-c954-fe61c920b53a"
      },
      "execution_count": null,
      "outputs": [
        {
          "output_type": "stream",
          "name": "stdout",
          "text": [
            "enter the number: 1234554321\n",
            " the number is palindrome\n"
          ]
        }
      ]
    },
    {
      "cell_type": "code",
      "source": [
        "#check whether a number is armstrong or not\n",
        "num=int(input(\"enter the number: \"))\n",
        "numcopy1=num\n",
        "numcopy2=num\n",
        "length=0\n",
        "armstrong=0\n",
        "while numcopy1>0:\n",
        "  numcopy1=numcopy1//10\n",
        "  length=length+1\n",
        "while numcopy2>0:\n",
        "  rem=numcopy2%10\n",
        "  armstrong=armstrong+pow(rem,length)\n",
        "  numcopy2=numcopy2//10\n",
        "if armstrong==num :\n",
        "  print(num, \"is an armstrong number\")\n",
        "else:\n",
        "  print(num, \"is not an armstrong number\")\n"
      ],
      "metadata": {
        "id": "i7Zm5AZGpF9j",
        "colab": {
          "base_uri": "https://localhost:8080/"
        },
        "outputId": "d63ee0a6-7292-4b75-b0fc-1fe419deb33a"
      },
      "execution_count": 24,
      "outputs": [
        {
          "output_type": "stream",
          "name": "stdout",
          "text": [
            "enter the number: 1634\n",
            "1634 is an armstrong number\n"
          ]
        }
      ]
    },
    {
      "cell_type": "code",
      "source": [
        "#evaluate x^n\n",
        "base=int(input(\"enter the base value: \"))\n",
        "power=int(input(\"enter the power: \"))\n",
        "result=1\n",
        "while power>0:\n",
        "  result=result*base\n",
        "  power=power-1\n",
        "print(result)\n",
        "  "
      ],
      "metadata": {
        "colab": {
          "base_uri": "https://localhost:8080/"
        },
        "id": "VXZAl_Glrja1",
        "outputId": "7de4bda1-0865-4ef5-d21f-0740f789ad91"
      },
      "execution_count": null,
      "outputs": [
        {
          "output_type": "stream",
          "name": "stdout",
          "text": [
            "enter the base value: 3\n",
            "enter the power: 3\n",
            "27\n"
          ]
        }
      ]
    },
    {
      "cell_type": "code",
      "source": [
        "#print n odd numbers\n",
        "n=int(input(\"enter the n value; \"))\n",
        "i=1\n",
        "while i<2*n:\n",
        "  print(i)\n",
        "  i=i+2\n"
      ],
      "metadata": {
        "id": "pMjuhrX27J3F",
        "colab": {
          "base_uri": "https://localhost:8080/"
        },
        "outputId": "5ad76b43-9b84-40b1-c593-8490e42e3c4d"
      },
      "execution_count": null,
      "outputs": [
        {
          "output_type": "stream",
          "name": "stdout",
          "text": [
            "enter the n value; 12\n",
            "1\n",
            "3\n",
            "5\n",
            "7\n",
            "9\n",
            "11\n",
            "13\n",
            "15\n",
            "17\n",
            "19\n",
            "21\n",
            "23\n"
          ]
        }
      ]
    },
    {
      "cell_type": "code",
      "source": [
        "#print GCD of 2 numbers\n",
        "num1 = int(input(\"Enter the largest number: \"))\n",
        "num2 = int(input(\"Enter the smallest number: \"))\n",
        "if num1%num2==0:\n",
        "  print(\"GCD is \",num2)\n",
        "else:\n",
        "  while num2!=0:\n",
        "    remainder = num1%num2\n",
        "    num1 = num2\n",
        "    num2 = remainder\n",
        "if num2==0:\n",
        "  print(\"GCD is \",num1)"
      ],
      "metadata": {
        "colab": {
          "base_uri": "https://localhost:8080/"
        },
        "id": "Pg9EFHHGI6ke",
        "outputId": "b7433f97-0e1d-4ffd-a784-bf93dd9b4524"
      },
      "execution_count": null,
      "outputs": [
        {
          "output_type": "stream",
          "name": "stdout",
          "text": [
            "Enter the largest number: 98\n",
            "Enter the smallest number: 36\n",
            "GCD is  2\n"
          ]
        }
      ]
    },
    {
      "cell_type": "code",
      "source": [
        "#print factorial of a given number\n",
        "n=int(input(\"enter the number; \"))\n",
        "result=1\n",
        "while n>0:\n",
        "  result=result*n\n",
        "  n=n-1\n",
        "print(result)"
      ],
      "metadata": {
        "colab": {
          "base_uri": "https://localhost:8080/"
        },
        "id": "lbBvUtw4tCk5",
        "outputId": "ca604331-ba85-4073-d99d-7be3973a6d9f"
      },
      "execution_count": null,
      "outputs": [
        {
          "output_type": "stream",
          "name": "stdout",
          "text": [
            "enter the number; 5\n",
            "120\n"
          ]
        }
      ]
    },
    {
      "cell_type": "code",
      "source": [
        "# find the sum of the given series, up to n terms. S = 1 - 4 + 9 - 16 + ....\n",
        "n = int(input(\"Enter the no of terms: \"))\n",
        "sum=0\n",
        "for i in range(1,n+1):\n",
        "  i=i*i\n",
        "  if i%2==0:\n",
        "    i=i*(-1)\n",
        "  sum=sum+i\n",
        "print(sum)"
      ],
      "metadata": {
        "colab": {
          "base_uri": "https://localhost:8080/"
        },
        "id": "JIN52it6JH5i",
        "outputId": "0bd13481-6b78-4c68-f4b1-82d1d176eab0"
      },
      "execution_count": 15,
      "outputs": [
        {
          "output_type": "stream",
          "name": "stdout",
          "text": [
            "Enter the no of terms: 6\n",
            "-21\n"
          ]
        }
      ]
    },
    {
      "cell_type": "code",
      "source": [
        "# whether a given number is Automorphic or not.\n",
        "num = int(input(\"Enter the num \"))\n",
        "numcopy = num\n",
        "l = 0\n",
        "while numcopy>0:\n",
        "  numcopy = numcopy//10\n",
        "  l = l + 1\n",
        "result = pow(num,2)\n",
        "last_digit = result % pow(10,length)\n",
        "if last_digit == num:\n",
        "  print(\"It is an automorphic number\")\n",
        "else:\n",
        "  print(\"It is not an automorphic number\")"
      ],
      "metadata": {
        "colab": {
          "base_uri": "https://localhost:8080/"
        },
        "id": "r1mKT6FcJKR5",
        "outputId": "1875f213-54ef-411a-8424-cb194ddb3a48"
      },
      "execution_count": null,
      "outputs": [
        {
          "output_type": "stream",
          "name": "stdout",
          "text": [
            "Enter the num 25\n",
            "It is an automorphic number\n"
          ]
        }
      ]
    },
    {
      "cell_type": "code",
      "source": [
        "# read a binary number and print its decimal equivalent.\n",
        "binary_number = int(input(\"Enter the binary number \"))\n",
        "binary_number_copy = binary_number\n",
        "length = 0\n",
        "decimal = 0\n",
        "while binary_number_copy>0:\n",
        "  binary_number_copy = binary_number_copy//10\n",
        "  length = length + 1\n",
        "\n",
        "\n",
        "for i in range(length):\n",
        "    remainder = binary_number%10\n",
        "    binary_number = binary_number//10\n",
        "    decimal = decimal + remainder*pow(2,i)\n",
        "\n",
        "print(decimal)"
      ],
      "metadata": {
        "id": "Pz6PR7woJTd-",
        "colab": {
          "base_uri": "https://localhost:8080/"
        },
        "outputId": "9610f6bb-2b43-451c-cc24-31c72ecb4ad1"
      },
      "execution_count": null,
      "outputs": [
        {
          "output_type": "stream",
          "name": "stdout",
          "text": [
            "Enter the binary number 1001\n",
            "9\n"
          ]
        }
      ]
    },
    {
      "cell_type": "code",
      "source": [
        "#print 1 to 10\n",
        "for i in range(1,11):\n",
        "  print(i)\n",
        "  "
      ],
      "metadata": {
        "colab": {
          "base_uri": "https://localhost:8080/"
        },
        "id": "rx-tvCnzKNcq",
        "outputId": "c477cd94-9835-414d-c17b-eb3583a06262"
      },
      "execution_count": null,
      "outputs": [
        {
          "output_type": "stream",
          "name": "stdout",
          "text": [
            "1\n",
            "2\n",
            "3\n",
            "4\n",
            "5\n",
            "6\n",
            "7\n",
            "8\n",
            "9\n",
            "10\n"
          ]
        }
      ]
    },
    {
      "cell_type": "code",
      "source": [
        "#print n nautral numbers\n",
        "n=int(input(\"enter the number: \"))\n",
        "i=1\n",
        "while i<=n:\n",
        "  print(i)\n",
        "  i=i+1"
      ],
      "metadata": {
        "id": "1AsRaOVJKiKZ",
        "colab": {
          "base_uri": "https://localhost:8080/"
        },
        "outputId": "9aae86d2-e817-42ba-e6b9-965b72a07b49"
      },
      "execution_count": null,
      "outputs": [
        {
          "output_type": "stream",
          "name": "stdout",
          "text": [
            "enter the number: 6\n",
            "1\n",
            "2\n",
            "3\n",
            "4\n",
            "5\n",
            "6\n"
          ]
        }
      ]
    }
  ]
}